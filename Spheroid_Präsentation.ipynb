{
 "cells": [
  {
   "cell_type": "markdown",
   "metadata": {},
   "source": [
    "# Sheroid Auswertung\n",
    "#### Felix Romer\n",
    "#### 2022\n",
    "#### HS Mannheim Institut für molekular und Zellbiologie"
   ]
  },
  {
   "cell_type": "markdown",
   "metadata": {},
   "source": [
    "# Packed Import"
   ]
  },
  {
   "cell_type": "code",
   "execution_count": 24,
   "metadata": {},
   "outputs": [
    {
     "name": "stdout",
     "output_type": "stream",
     "text": [
      "The autoreload extension is already loaded. To reload it, use:\n",
      "  %reload_ext autoreload\n"
     ]
    }
   ],
   "source": [
    "import pandas as pd\n",
    "import numpy as np\n",
    "import matplotlib.pyplot as plt\n",
    "import seaborn as sns\n",
    "from Spheroid_fct import *\n",
    "import copy\n",
    "import functools\n",
    "\n",
    "%load_ext autoreload\n",
    "%autoreload 2"
   ]
  },
  {
   "cell_type": "code",
   "execution_count": 30,
   "metadata": {},
   "outputs": [],
   "source": [
    "# Use / insead of \\ when wirting the path! (\\ is default at windows!, but its not working in python with \\)\n",
    "file=['path/DataX.xlsx',\n",
    "    'path/DataY.xlsx',\n",
    "    'path/DataZ.xlsx']\n",
    "\n",
    "#CHoose for each file a Experiment name!\n",
    "Experiment_names = ['x',\n",
    "                    'y',\n",
    "                    'z']\n",
    "\n",
    "#List with the experiment conditions. The spelling must be identical with Excel                \n",
    "Bed_unique=['neg. Controll',\n",
    "            '7.5 µg/ml Coll',\n",
    "            '10 µg/ml Coll',\n",
    "            '500 µg/ml Alg',\n",
    "            '1000 µg/ml Alg',\n",
    "            '10 µg/ml Col + 1000 µg/ml Alg',\n",
    "            '7.5 µg/ml Col + 1000 µg/ml Alg',\n",
    "            '10 µg/ml Col + 500 µg/ml Alg']\n",
    "\n",
    "\n",
    "#Define the Correction factor (default is 1000)\n",
    "C_f=1\n",
    "\n",
    "#Define which remarks lead to the ignoring of a row\n",
    "drop_args=['abgesaugt',\n",
    "            'MTT',\n",
    "            'Seed_Fehler',\n",
    "            'ende']"
   ]
  },
  {
   "cell_type": "markdown",
   "metadata": {},
   "source": [
    "## Run the function to find the best well"
   ]
  },
  {
   "cell_type": "markdown",
   "metadata": {},
   "source": [
    "For each condition, the most representative well is printed in the output  \n",
    "\n",
    "  Ignore the warning messages 'A value is trying to be set on a copy of a slice from a DataFrame.' if any occur  \n",
    "\n",
    "The new parameters contain information about all data.  \n",
    " In rep_well the most representative wells are summarised"
   ]
  },
  {
   "cell_type": "code",
   "execution_count": null,
   "metadata": {},
   "outputs": [],
   "source": [
    "mean_round,mean_area,rep_well, df_adapt=multi_experiment_well_finder(\n",
    "    file,Experiment_names ,Bed_unique,Correction_factor=C_f, drop_args=drop_args)"
   ]
  },
  {
   "cell_type": "markdown",
   "metadata": {},
   "source": [
    "## Lineplot of mean_roundness per condition"
   ]
  },
  {
   "cell_type": "code",
   "execution_count": null,
   "metadata": {},
   "outputs": [],
   "source": [
    "color_palette=[\"#000000\",\"#27aeef\", \"#b33dc6\", \"#ea5545\", \"#ef9b20\",\"#87bc45\",\"#edbf33\", \"#bdcf32\"]\n",
    "#Color palette of plot can be addaped. Therfore wirte 'color_palette=color_palette' at the end of the fundtion input\n",
    "fig=roundplotfunc(mean_round,'Cell_line','roundness')    #farben=color_palette\n",
    "plt.show(fig)"
   ]
  },
  {
   "cell_type": "markdown",
   "metadata": {},
   "source": [
    "## Lineplot of mean_roundness per condition"
   ]
  },
  {
   "cell_type": "code",
   "execution_count": null,
   "metadata": {},
   "outputs": [],
   "source": [
    "fig=roundplotfunc(mean_round,'Cell_line','Fläche_berechnet') #farben=color_palette\n",
    "\n",
    "plt.show(fig)"
   ]
  }
 ],
 "metadata": {
  "kernelspec": {
   "display_name": "Python 3.10.4 64-bit",
   "language": "python",
   "name": "python3"
  },
  "language_info": {
   "codemirror_mode": {
    "name": "ipython",
    "version": 3
   },
   "file_extension": ".py",
   "mimetype": "text/x-python",
   "name": "python",
   "nbconvert_exporter": "python",
   "pygments_lexer": "ipython3",
   "version": "3.10.4"
  },
  "orig_nbformat": 4,
  "vscode": {
   "interpreter": {
    "hash": "f26ef31056f49a66d2135d360950203a22d9d4415038d99a117d63e2aa3c4454"
   }
  }
 },
 "nbformat": 4,
 "nbformat_minor": 2
}
